{
 "cells": [
  {
   "cell_type": "code",
   "execution_count": null,
   "metadata": {},
   "outputs": [],
   "source": [
    "import pandas as pd"
   ]
  },
  {
   "cell_type": "code",
   "execution_count": null,
   "metadata": {},
   "outputs": [],
   "source": [
    "\n",
    "url_path: str = \"https://raw.githubusercontent.com/CoderContenidos/Data.Engineering/main/Semana%208/Datos_Microdesafio_Semana8_DE.csv\"\n"
   ]
  },
  {
   "cell_type": "markdown",
   "metadata": {},
   "source": [
    "## Informacion no Anonima"
   ]
  },
  {
   "cell_type": "code",
   "execution_count": null,
   "metadata": {},
   "outputs": [],
   "source": [
    "data:pd.DataFrame = pd.read_csv(url_path, sep=\";\")\n",
    "data"
   ]
  },
  {
   "cell_type": "markdown",
   "metadata": {},
   "source": [
    "## Columnas a Anonimizar"
   ]
  },
  {
   "cell_type": "code",
   "execution_count": null,
   "metadata": {},
   "outputs": [],
   "source": [
    "cols_anonimizar: list[str] = [\"Comisionado\",\"Fecha\",\"Telefono\"]"
   ]
  },
  {
   "cell_type": "markdown",
   "metadata": {},
   "source": [
    "### Forma recomendada por Coderhouse\n",
    "LINK -> https://pypi.org/project/anonymizedf/"
   ]
  },
  {
   "cell_type": "code",
   "execution_count": null,
   "metadata": {},
   "outputs": [],
   "source": [
    "from anonymizedf.anonymizedf import anonymize"
   ]
  },
  {
   "cell_type": "code",
   "execution_count": null,
   "metadata": {},
   "outputs": [],
   "source": [
    "an = anonymize(data)"
   ]
  },
  {
   "cell_type": "code",
   "execution_count": null,
   "metadata": {},
   "outputs": [],
   "source": [
    "fake_df = (\n",
    "    an\n",
    "    .fake_names(\"Comisionado\", chaining=True)\n",
    "    .fake_dates(\"Fecha\", chaining=True)\n",
    "    .fake_whole_numbers(\"Telefono\", chaining=True)\n",
    "    .show_data_frame()\n",
    ")\n",
    "\n",
    "data = fake_df\n",
    "data"
   ]
  },
  {
   "cell_type": "markdown",
   "metadata": {},
   "source": [
    "### Forma que lo hubiera realizado teniendo en cuenta encryptaciones"
   ]
  },
  {
   "cell_type": "code",
   "execution_count": null,
   "metadata": {},
   "outputs": [],
   "source": [
    "import hashlib"
   ]
  },
  {
   "cell_type": "code",
   "execution_count": null,
   "metadata": {},
   "outputs": [],
   "source": [
    "def anonymize(value):\n",
    "    if pd.isnull(value):\n",
    "        return value\n",
    "    if isinstance(value, (int, float)):\n",
    "        value = str(value)\n",
    "    return hashlib.sha256(value.encode()).hexdigest()[:12]\n",
    "\n",
    "for col in cols_anonimizar:\n",
    "    data[f\"{col}_hash\"] = data[col].apply(anonymize)\n",
    "\n",
    "data"
   ]
  },
  {
   "cell_type": "code",
   "execution_count": null,
   "metadata": {},
   "outputs": [],
   "source": [
    "data_final_hashed: pd.DataFrame = data.drop(\n",
    "    [   'Comisionado',\n",
    "        'Fake_Comisionado',\n",
    "        'Fake_Fecha', \n",
    "        'Fake_Telefono'], axis=1\n",
    ") \n",
    "\n",
    "data_final_anonn: pd.DataFrame = data.drop(\n",
    "    [   'Comisionado',\n",
    "        'Comisionado_hash',\n",
    "        'Fecha_hash', \n",
    "        'Telefono_hash'], axis=1\n",
    ")"
   ]
  },
  {
   "cell_type": "code",
   "execution_count": null,
   "metadata": {},
   "outputs": [],
   "source": [
    "data_final_hashed = data_final_hashed.rename(columns={\"Pais \":\"Pais\"}) "
   ]
  },
  {
   "cell_type": "code",
   "execution_count": null,
   "metadata": {},
   "outputs": [],
   "source": [
    "data_final_anonn = data_final_anonn.rename(columns={\"Pais \":\"Pais\"})\n",
    "data_final_anonn.columns"
   ]
  },
  {
   "cell_type": "markdown",
   "metadata": {},
   "source": [
    "### Cualquiera de esas elecciones no influye en la ingesta de los datos a la base de datos\n"
   ]
  },
  {
   "cell_type": "code",
   "execution_count": null,
   "metadata": {},
   "outputs": [],
   "source": [
    "import psycopg2 as pg\n",
    "from dotenv import load_dotenv\n",
    "import os\n",
    "from sqlalchemy import create_engine\n",
    "\n",
    "load_dotenv()"
   ]
  },
  {
   "cell_type": "code",
   "execution_count": null,
   "metadata": {},
   "outputs": [],
   "source": [
    "# Genera un objeto connector\n",
    "conn = pg.connect(\n",
    "        user = os.getenv('REDSHIFT_USERNAME')\n",
    "    ,   password = os.getenv('REDSHIFT_PASSWORD')\n",
    "    ,   host = os.getenv('REDSHIFT_HOST')\n",
    "    ,   port = os.getenv('REDSHIFT_PORT', '5439')\n",
    "    ,   database = os.getenv('REDSHIFT_DBNAME')\n",
    ")\n",
    "\n",
    "schema = \"andru_ocatorres_coderhouse\"\n",
    "\n",
    "\n",
    "TABLE_QUERY = \"\"\"\n",
    "DROP TABLE IF EXISTS andru_ocatorres_coderhouse.politicas_2050;\n",
    "\n",
    "CREATE TABLE IF NOT EXISTS \n",
    "    politicas_2050 (\n",
    "        Pais VARCHAR(100), \n",
    "        Reduccion_CO2 VARCHAR(100), \n",
    "        Incrmento_P VARCHAR(100), \n",
    "        Inversion_arboles VARCHAR(100), \n",
    "        Fecha VARCHAR(20),\n",
    "        Telefono VARCHAR(100), \n",
    "        Fake_Comisionado VARCHAR(100), \n",
    "        Fake_Fecha DATE,\n",
    "        Fake_Telefono VARCHAR(100)\n",
    "    );\n",
    "\"\"\" \n",
    "\n",
    "conn.autocommit = True\n",
    "\n",
    "try:\n",
    "    with conn.cursor() as cursor:\n",
    "        cursor.execute(TABLE_QUERY)\n",
    "\n",
    "    conn.commit()\n",
    "    print(\"Schema createad plus table\") \n",
    "except Exception as e:\n",
    "    conn.rollback()\n",
    "    print(f\"not able to create \\n{e}\")\n",
    "finally:\n",
    "    conn.close()"
   ]
  },
  {
   "cell_type": "code",
   "execution_count": null,
   "metadata": {},
   "outputs": [],
   "source": [
    "# crea un objeto url para conectar con la warehouse\n",
    "username = os.getenv('REDSHIFT_USERNAME')\n",
    "password = os.getenv('REDSHIFT_PASSWORD')\n",
    "host = os.getenv('REDSHIFT_HOST')\n",
    "port = os.getenv('REDSHIFT_PORT', '5439')\n",
    "dbname = os.getenv('REDSHIFT_DBNAME')\n",
    "\n",
    "\n",
    "\n",
    "# Construct the connection URL\n",
    "connection_url = f\"postgresql+psycopg2://{username}:{password}@{host}:{port}/{dbname}\"\n",
    "db_engine = create_engine(connection_url)\n"
   ]
  },
  {
   "cell_type": "code",
   "execution_count": null,
   "metadata": {},
   "outputs": [],
   "source": [
    "data_final_anonn.to_sql(\n",
    "    'politicas_2050',\n",
    "    db_engine,\n",
    "    if_exists='append',\n",
    "    schema='andru_ocatorres_coderhouse',\n",
    "    index=False,\n",
    "    method='multi')"
   ]
  }
 ],
 "metadata": {
  "kernelspec": {
   "display_name": "Python 3",
   "language": "python",
   "name": "python3"
  },
  "language_info": {
   "codemirror_mode": {
    "name": "ipython",
    "version": 3
   },
   "file_extension": ".py",
   "mimetype": "text/x-python",
   "name": "python",
   "nbconvert_exporter": "python",
   "pygments_lexer": "ipython3",
   "version": "3.10.13"
  }
 },
 "nbformat": 4,
 "nbformat_minor": 2
}
